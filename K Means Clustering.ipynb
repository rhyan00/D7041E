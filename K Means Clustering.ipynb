{
 "cells": [
  {
   "cell_type": "code",
   "execution_count": 18,
   "metadata": {},
   "outputs": [],
   "source": [
    "import pandas as pd\n",
    "from sklearn.cluster import KMeans\n",
    "from sklearn.preprocessing import StandardScaler, LabelEncoder\n",
    "from sklearn.model_selection import train_test_split\n",
    "from sklearn.metrics import (silhouette_score, calinski_harabasz_score, davies_bouldin_score,\n",
    "                             adjusted_rand_score, normalized_mutual_info_score\n",
    ")\n",
    "import matplotlib.pyplot as plt\n",
    "\n",
    "def train_kmeans_model(file_path, column_names=None, categorical_columns=None, target_column=None, test_size=0.3, random_state=42):\n",
    "    \"\"\"\n",
    "    Train a K-means clustering model and evaluate its performance.\n",
    "\n",
    "    Parameters:\n",
    "        - file_path (str): Path to the dataset file.\n",
    "        - column_names (list): List of column names. Default is None.\n",
    "        - categorical_columns (list): Categorical columns to encode. Default is None.\n",
    "        - target_column (str): Name of target column to exclude. Default is None.\n",
    "        - test_size (float): Fraction of data for testing. Default is 0.3.\n",
    "        - random_state (int): Random seed for reproducibility. Default is 42.\n",
    "\n",
    "    Returns:\n",
    "        None\n",
    "    \"\"\"\n",
    "    # Load dataset\n",
    "    data = pd.read_csv(file_path, header=None, names=column_names)\n",
    "\n",
    "    # Encode categorical columns if provided\n",
    "    if categorical_columns:\n",
    "        for col in categorical_columns:\n",
    "            data[col] = LabelEncoder().fit_transform(data[col])\n",
    "\n",
    "    # Separate features and target if provided\n",
    "    if target_column:\n",
    "        target = data[target_column]\n",
    "        data = data.drop(columns=[target_column])\n",
    "    else:\n",
    "        target = None\n",
    "\n",
    "    scaler = StandardScaler()\n",
    "    data_scaled = scaler.fit_transform(data)\n",
    "\n",
    "    X_train, _ = train_test_split(data_scaled, test_size=test_size, random_state=random_state)\n",
    "\n",
    "    # Determine optimal clusters using the silhouette score\n",
    "    best_k = 2\n",
    "    best_score = -1\n",
    "    for k in range(2, 20):\n",
    "        kmeans = KMeans(n_clusters=k, random_state=random_state)\n",
    "        labels = kmeans.fit_predict(X_train)\n",
    "        score = silhouette_score(X_train, labels)\n",
    "        if score > best_score:\n",
    "            best_k = k\n",
    "            best_score = score\n",
    "\n",
    "    print(f\"Optimal number of clusters (k): {best_k}\")\n",
    "\n",
    "    # Train K-means with the optimal number of clusters\n",
    "    kmeans = KMeans(n_clusters=best_k, random_state=random_state)\n",
    "    labels = kmeans.fit_predict(X_train)\n",
    "\n",
    "    # Evaluate clustering performance\n",
    "    silhouette = silhouette_score(X_train, labels)\n",
    "    calinski_harabasz = calinski_harabasz_score(X_train, labels)\n",
    "    davies_bouldin = davies_bouldin_score(X_train, labels)\n",
    "\n",
    "    print(f\"Silhouette Score: {silhouette:.2f}\")\n",
    "    print(f\"Calinski-Harabasz Index: {calinski_harabasz:.2f}\")\n",
    "    print(f\"Davies-Bouldin Index: {davies_bouldin:.2f}\")\n",
    "\n",
    "    # # Evaluate against ground truth if labels are available\n",
    "    # if target is not None:\n",
    "    #     target = target[:len(labels)]  # Ensure same length for comparison\n",
    "    #     ari = adjusted_rand_score(target, labels)\n",
    "    #     nmi = normalized_mutual_info_score(target, labels)\n",
    "        \n",
    "    #     print(f\"Adjusted Rand Index (ARI): {ari:.2f}\")\n",
    "    #     print(f\"Normalized Mutual Information (NMI): {nmi:.2f}\")\n"
   ]
  },
  {
   "cell_type": "code",
   "execution_count": 19,
   "metadata": {},
   "outputs": [
    {
     "name": "stdout",
     "output_type": "stream",
     "text": [
      "Optimal number of clusters (k): 2\n",
      "Silhouette Score: 0.44\n",
      "Calinski-Harabasz Index: 3362.01\n",
      "Davies-Bouldin Index: 0.83\n"
     ]
    }
   ],
   "source": [
    "file_path = \"../dataset abalone/abalone.data\"\n",
    "column_names = [\"Sex\", \"Length\", \"Diameter\", \"Height\", \"WholeWeight\",\n",
    "                \"ShuckedWeight\", \"VisceraWeight\", \"ShellWeight\", \"Rings\"]\n",
    "categorical_columns = [\"Sex\"]\n",
    "target_column = \"Rings\"\n",
    "\n",
    "train_kmeans_model(file_path, column_names, categorical_columns, target_column)"
   ]
  },
  {
   "cell_type": "code",
   "execution_count": 20,
   "metadata": {},
   "outputs": [
    {
     "name": "stdout",
     "output_type": "stream",
     "text": [
      "Optimal number of clusters (k): 8\n",
      "Silhouette Score: 0.21\n",
      "Calinski-Harabasz Index: 95.96\n",
      "Davies-Bouldin Index: 1.19\n"
     ]
    }
   ],
   "source": [
    "file_path = \"../dataset balance+scale/balance-scale.data\"\n",
    "column_names = [\"Class\", \"Left-Weight\", \"Left-Distance\", \"Right-Weight\", \"Right-Distance\"]\n",
    "\n",
    "target_column = \"Class\"\n",
    "categorical_columns = None\n",
    "\n",
    "train_kmeans_model(file_path, column_names, categorical_columns, target_column)\n"
   ]
  },
  {
   "cell_type": "code",
   "execution_count": 21,
   "metadata": {},
   "outputs": [
    {
     "name": "stdout",
     "output_type": "stream",
     "text": [
      "Optimal number of clusters (k): 2\n",
      "Silhouette Score: 0.21\n",
      "Calinski-Harabasz Index: 44.49\n",
      "Davies-Bouldin Index: 1.95\n"
     ]
    }
   ],
   "source": [
    "file_path = \"../dataset breast+cancer/breast-cancer.data\"\n",
    "\n",
    "column_names = [\n",
    "    \"Class\", \"Age\", \"Menopause\", \"Tumor_size\", \"Inv_nodes\", \n",
    "    \"Node_caps\", \"Deg_malig\", \"Breast\", \"Breast_quad\", \"Irradiat\"\n",
    "]\n",
    "\n",
    "target_column = \"Class\"\n",
    "categorical_columns = [\"Age\", \"Menopause\", \"Tumor_size\", \"Inv_nodes\", \"Node_caps\", \"Breast\", \"Breast_quad\", \"Irradiat\"]\n",
    "\n",
    "train_kmeans_model(file_path, column_names, categorical_columns, target_column)\n"
   ]
  },
  {
   "cell_type": "code",
   "execution_count": 22,
   "metadata": {},
   "outputs": [
    {
     "name": "stdout",
     "output_type": "stream",
     "text": [
      "Optimal number of clusters (k): 2\n",
      "Silhouette Score: 0.56\n",
      "Calinski-Harabasz Index: 148.74\n",
      "Davies-Bouldin Index: 0.61\n"
     ]
    }
   ],
   "source": [
    "file_path = \"../dataset iris/iris.data\"\n",
    "column_names = [\"SepalLength\", \"SepalWidth\", \"PetalLength\", \"PetalWidth\", \"Species\"]\n",
    "\n",
    "target_column = \"Species\"\n",
    "categorical_columns = None\n",
    "\n",
    "train_kmeans_model(file_path, column_names, categorical_columns, target_column)"
   ]
  },
  {
   "cell_type": "code",
   "execution_count": 23,
   "metadata": {},
   "outputs": [
    {
     "name": "stdout",
     "output_type": "stream",
     "text": [
      "Optimal number of clusters (k): 3\n",
      "Silhouette Score: 0.28\n",
      "Calinski-Harabasz Index: 48.09\n",
      "Davies-Bouldin Index: 1.42\n"
     ]
    }
   ],
   "source": [
    "file_path = \"../dataset wine/wine.data\"\n",
    "column_names = [\n",
    "    \"Alcohol\", \"Malic_acid\", \"Ash\", \"Alcalinity_of_ash\", \"Magnesium\", \n",
    "    \"Total_phenols\", \"Flavanoids\", \"Nonflavanoid_phenols\", \"Proanthocyanins\", \n",
    "    \"Color_intensity\", \"Hue\", \"OD280/OD315_of_diluted_wines\", \"Proline\"\n",
    "]\n",
    "\n",
    "categorical_columns = None\n",
    "target_column = None\n",
    "\n",
    "train_kmeans_model(file_path, column_names, categorical_columns, target_column)"
   ]
  }
 ],
 "metadata": {
  "kernelspec": {
   "display_name": "Python 3",
   "language": "python",
   "name": "python3"
  },
  "language_info": {
   "codemirror_mode": {
    "name": "ipython",
    "version": 3
   },
   "file_extension": ".py",
   "mimetype": "text/x-python",
   "name": "python",
   "nbconvert_exporter": "python",
   "pygments_lexer": "ipython3",
   "version": "3.12.3"
  }
 },
 "nbformat": 4,
 "nbformat_minor": 2
}
