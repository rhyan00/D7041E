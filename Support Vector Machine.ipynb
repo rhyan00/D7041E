{
 "cells": [
  {
   "cell_type": "code",
   "execution_count": 5,
   "metadata": {},
   "outputs": [],
   "source": [
    "import pandas as pd\n",
    "from sklearn.svm import SVC\n",
    "from sklearn.model_selection import cross_val_score, StratifiedKFold\n",
    "from sklearn.metrics import accuracy_score, precision_score, recall_score, f1_score, confusion_matrix, classification_report\n",
    "\n",
    "def train_svm_model(file_path, column_names, target_column, one_hot_columns=None, threshold=None, cv_folds=5, random_state=42):\n",
    "    \"\"\"\n",
    "    Train an SVM model on a given dataset using cross-validation and display its performance metrics.\n",
    "    \n",
    "    Parameters:\n",
    "        file_path (str): Path to the dataset file.\n",
    "        column_names (list): List of column names for the dataset.\n",
    "        target_column (str): Name of the target column.\n",
    "        one_hot_columns (list): List of column names to one-hot encode. Default is None.\n",
    "        threshold (int or float): Threshold to convert target column into binary classes. Default is None.\n",
    "        cv_folds (int): Number of cross-validation folds. Default is 5.\n",
    "        random_state (int): Random seed for reproducibility. Default is 42.\n",
    "    \n",
    "    Returns:\n",
    "        None\n",
    "    \"\"\"\n",
    "    # Load dataset\n",
    "    data = pd.read_csv(file_path, header=None, names=column_names)\n",
    "    \n",
    "    # Preprocessing: Convert target column to binary if threshold is provided\n",
    "    if threshold is not None:\n",
    "        data[target_column] = data[target_column] > threshold\n",
    "    \n",
    "    # Preprocessing: One-hot encode specified columns\n",
    "    if one_hot_columns:\n",
    "        data = pd.get_dummies(data, columns=one_hot_columns, drop_first=True)\n",
    "    \n",
    "    # Split data into features (X) and target (y)\n",
    "    X = data.drop(columns=[target_column])  \n",
    "    y = data[target_column] \n",
    "    \n",
    "    # Cross-validation\n",
    "    svm_model = SVC(kernel=\"rbf\", probability=True, random_state=random_state)\n",
    "    cv = StratifiedKFold(n_splits=cv_folds, shuffle=True, random_state=random_state)\n",
    "    \n",
    "    # Calculate cross-validation scores\n",
    "    accuracy_scores = cross_val_score(svm_model, X, y, cv=cv, scoring='accuracy')\n",
    "    precision_scores = cross_val_score(svm_model, X, y, cv=cv, scoring='precision_weighted')\n",
    "    recall_scores = cross_val_score(svm_model, X, y, cv=cv, scoring='recall_weighted')\n",
    "    f1_scores = cross_val_score(svm_model, X, y, cv=cv, scoring='f1_weighted')\n",
    "    \n",
    "    # Display metrics\n",
    "    print(f\"Cross-Validation Results ({cv_folds}-folds):\")\n",
    "    print(f\"Accuracy: {accuracy_scores.mean():.2f} ± {accuracy_scores.std():.2f}\")\n",
    "    print(f\"Precision: {precision_scores.mean():.2f} ± {precision_scores.std():.2f}\")\n",
    "    print(f\"Recall: {recall_scores.mean():.2f} ± {recall_scores.std():.2f}\")\n",
    "    print(f\"F1 Score: {f1_scores.mean():.2f} ± {f1_scores.std():.2f}\")\n"
   ]
  },
  {
   "cell_type": "code",
   "execution_count": 6,
   "metadata": {},
   "outputs": [
    {
     "name": "stdout",
     "output_type": "stream",
     "text": [
      "Cross-Validation Results (5-folds):\n",
      "Accuracy: 0.78 ± 0.01\n",
      "Precision: 0.77 ± 0.01\n",
      "Recall: 0.78 ± 0.01\n",
      "F1 Score: 0.77 ± 0.01\n"
     ]
    }
   ],
   "source": [
    "file_path = \"../dataset abalone/abalone.data\"\n",
    "column_names = [\"Sex\", \"Length\", \"Diameter\", \"Height\", \"Whole weight\",\n",
    "                \"Shucked weight\", \"Viscera weight\", \"Shell weight\", \"Rings\"]\n",
    "target_column = \"Rings\"\n",
    "one_hot_columns = [\"Sex\"]\n",
    "threshold = 10\n",
    "\n",
    "train_svm_model(file_path, column_names, target_column, one_hot_columns, threshold)"
   ]
  },
  {
   "cell_type": "code",
   "execution_count": 7,
   "metadata": {},
   "outputs": [
    {
     "name": "stderr",
     "output_type": "stream",
     "text": [
      "c:\\Users\\klown\\AppData\\Local\\Programs\\Python\\Python312\\Lib\\site-packages\\sklearn\\metrics\\_classification.py:1531: UndefinedMetricWarning: Precision is ill-defined and being set to 0.0 in labels with no predicted samples. Use `zero_division` parameter to control this behavior.\n",
      "  _warn_prf(average, modifier, f\"{metric.capitalize()} is\", len(result))\n",
      "c:\\Users\\klown\\AppData\\Local\\Programs\\Python\\Python312\\Lib\\site-packages\\sklearn\\metrics\\_classification.py:1531: UndefinedMetricWarning: Precision is ill-defined and being set to 0.0 in labels with no predicted samples. Use `zero_division` parameter to control this behavior.\n",
      "  _warn_prf(average, modifier, f\"{metric.capitalize()} is\", len(result))\n",
      "c:\\Users\\klown\\AppData\\Local\\Programs\\Python\\Python312\\Lib\\site-packages\\sklearn\\metrics\\_classification.py:1531: UndefinedMetricWarning: Precision is ill-defined and being set to 0.0 in labels with no predicted samples. Use `zero_division` parameter to control this behavior.\n",
      "  _warn_prf(average, modifier, f\"{metric.capitalize()} is\", len(result))\n",
      "c:\\Users\\klown\\AppData\\Local\\Programs\\Python\\Python312\\Lib\\site-packages\\sklearn\\metrics\\_classification.py:1531: UndefinedMetricWarning: Precision is ill-defined and being set to 0.0 in labels with no predicted samples. Use `zero_division` parameter to control this behavior.\n",
      "  _warn_prf(average, modifier, f\"{metric.capitalize()} is\", len(result))\n",
      "c:\\Users\\klown\\AppData\\Local\\Programs\\Python\\Python312\\Lib\\site-packages\\sklearn\\metrics\\_classification.py:1531: UndefinedMetricWarning: Precision is ill-defined and being set to 0.0 in labels with no predicted samples. Use `zero_division` parameter to control this behavior.\n",
      "  _warn_prf(average, modifier, f\"{metric.capitalize()} is\", len(result))\n"
     ]
    },
    {
     "name": "stdout",
     "output_type": "stream",
     "text": [
      "Cross-Validation Results (5-folds):\n",
      "Accuracy: 0.90 ± 0.01\n",
      "Precision: 0.83 ± 0.01\n",
      "Recall: 0.90 ± 0.01\n",
      "F1 Score: 0.87 ± 0.01\n"
     ]
    }
   ],
   "source": [
    "file_path = \"../dataset balance+scale/balance-scale.data\"\n",
    "column_names = [\"Class\", \"Left-Weight\", \"Left-Distance\", \"Right-Weight\", \"Right-Distance\"]\n",
    "target_column = \"Class\"\n",
    "one_hot_columns = None\n",
    "threshold = None\n",
    "\n",
    "train_svm_model(file_path, column_names, target_column, one_hot_columns, threshold)"
   ]
  },
  {
   "cell_type": "code",
   "execution_count": 8,
   "metadata": {},
   "outputs": [
    {
     "name": "stdout",
     "output_type": "stream",
     "text": [
      "Cross-Validation Results (5-folds):\n",
      "Accuracy: 0.72 ± 0.04\n",
      "Precision: 0.71 ± 0.05\n",
      "Recall: 0.72 ± 0.04\n",
      "F1 Score: 0.68 ± 0.04\n"
     ]
    }
   ],
   "source": [
    "file_path = \"../dataset breast+cancer/breast-cancer.data\"\n",
    "column_names = [\"Class\", \"Age\", \"Menopause\", \"Tumor-Size\", \"Inv-Nodes\", \"Node-Caps\",\n",
    "                \"Deg-Malig\", \"Breast\", \"Breast-Quad\", \"Irradiat\"]\n",
    "target_column = \"Class\"\n",
    "one_hot_columns=[\"Age\", \"Menopause\", \"Tumor-Size\", \"Inv-Nodes\", \"Node-Caps\", \"Breast\", \"Breast-Quad\", \"Irradiat\"]\n",
    "threshold = None\n",
    "\n",
    "train_svm_model(file_path, column_names, target_column, one_hot_columns, threshold)"
   ]
  },
  {
   "cell_type": "code",
   "execution_count": 9,
   "metadata": {},
   "outputs": [
    {
     "name": "stdout",
     "output_type": "stream",
     "text": [
      "Cross-Validation Results (5-folds):\n",
      "Accuracy: 0.97 ± 0.03\n",
      "Precision: 0.97 ± 0.03\n",
      "Recall: 0.97 ± 0.03\n",
      "F1 Score: 0.97 ± 0.03\n"
     ]
    }
   ],
   "source": [
    "file_path = \"../dataset iris/iris.data\"\n",
    "column_names = [\"SepalLength\", \"SepalWidth\", \"PetalLength\", \"PetalWidth\", \"Class\"]\n",
    "target_column = \"Class\"\n",
    "one_hot_columns = None\n",
    "threshold = None\n",
    "\n",
    "train_svm_model(file_path, column_names, target_column, one_hot_columns, threshold)"
   ]
  },
  {
   "cell_type": "code",
   "execution_count": 10,
   "metadata": {},
   "outputs": [
    {
     "name": "stdout",
     "output_type": "stream",
     "text": [
      "Cross-Validation Results (5-folds):\n",
      "Accuracy: 0.67 ± 0.04\n",
      "Precision: 0.64 ± 0.08\n",
      "Recall: 0.67 ± 0.04\n",
      "F1 Score: 0.65 ± 0.06\n"
     ]
    }
   ],
   "source": [
    "file_path = \"../dataset wine/wine.data\"\n",
    "column_names = [\"Class\", \"Alcohol\", \"MalicAcid\", \"Ash\", \"AlcalinityOfAsh\", \"Magnesium\",\n",
    "                \"TotalPhenols\", \"Flavanoids\", \"NonflavanoidPhenols\", \"Proanthocyanins\",\n",
    "                \"ColorIntensity\", \"Hue\", \"OD280_OD315\", \"Proline\"]\n",
    "target_column = \"Class\"\n",
    "one_hot_columns=None\n",
    "threshold=None\n",
    "\n",
    "train_svm_model(file_path, column_names, target_column, one_hot_columns, threshold)"
   ]
  }
 ],
 "metadata": {
  "kernelspec": {
   "display_name": "Python 3",
   "language": "python",
   "name": "python3"
  },
  "language_info": {
   "codemirror_mode": {
    "name": "ipython",
    "version": 3
   },
   "file_extension": ".py",
   "mimetype": "text/x-python",
   "name": "python",
   "nbconvert_exporter": "python",
   "pygments_lexer": "ipython3",
   "version": "3.12.3"
  }
 },
 "nbformat": 4,
 "nbformat_minor": 2
}
