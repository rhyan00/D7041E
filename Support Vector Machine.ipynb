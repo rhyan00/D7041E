{
 "cells": [
  {
   "cell_type": "code",
   "execution_count": 2,
   "metadata": {},
   "outputs": [],
   "source": [
    "import pandas as pd\n",
    "from sklearn.svm import SVC\n",
    "from sklearn.model_selection import train_test_split\n",
    "from sklearn.metrics import (accuracy_score, precision_score, recall_score, f1_score, confusion_matrix, classification_report\n",
    ")\n",
    "\n",
    "def train_svm_model(file_path, column_names, target_column, one_hot_columns=None, threshold=None, test_size=0.3, random_state=42):\n",
    "    \"\"\"\n",
    "    Train an SVM model on a given dataset and display its performance metrics.\n",
    "    \n",
    "    Parameters:\n",
    "        file_path (str): Path to the dataset file.\n",
    "        column_names (list): List of column names for the dataset.\n",
    "        target_column (str): Name of the target column.\n",
    "        one_hot_columns (list): List of column names to one-hot encode. Default is None.\n",
    "        threshold (int or float): Threshold to convert target column into binary classes. Default is None.\n",
    "        test_size (float): Fraction of the dataset to be used for testing. Default is 0.25.\n",
    "        random_state (int): Random seed for reproducibility. Default is 42.\n",
    "    \n",
    "    Returns:\n",
    "        None\n",
    "    \"\"\"\n",
    "    # Load dataset\n",
    "    data = pd.read_csv(file_path, header=None, names=column_names)\n",
    "    \n",
    "    # Preprocessing: Convert target column to binary if threshold is provided\n",
    "    if threshold is not None:\n",
    "        data[target_column] = data[target_column] > threshold\n",
    "    \n",
    "    # Preprocessing: One-hot encode specified columns\n",
    "    if one_hot_columns:\n",
    "        data = pd.get_dummies(data, columns=one_hot_columns, drop_first=True)\n",
    "    \n",
    "    # Split data into features (X) and target (y)\n",
    "    X = data.drop(columns=[target_column])  \n",
    "    y = data[target_column] \n",
    "    \n",
    "    # Train-test split\n",
    "    X_train, X_test, y_train, y_test = train_test_split(X, y, test_size=test_size, random_state=random_state)\n",
    "    svm_model = SVC(kernel=\"rbf\", probability=True, random_state=random_state)\n",
    "    svm_model.fit(X_train, y_train)\n",
    "    \n",
    "    y_pred = svm_model.predict(X_test)\n",
    "    \n",
    "    # Metrics\n",
    "    accuracy = accuracy_score(y_test, y_pred)\n",
    "    precision = precision_score(y_test, y_pred, average=\"weighted\")\n",
    "    recall = recall_score(y_test, y_pred, average=\"weighted\")\n",
    "    f1 = f1_score(y_test, y_pred, average=\"weighted\")\n",
    "    conf_matrix = confusion_matrix(y_test, y_pred)\n",
    "    \n",
    "    print(f\"Accuracy: {accuracy:.2f}\")\n",
    "    print(f\"Precision: {precision:.2f}\")\n",
    "    print(f\"Recall: {recall:.2f}\")\n",
    "    print(f\"F1 Score: {f1:.2f}\")\n",
    "    print(\"\\nConfusion Matrix:\")\n",
    "    print(conf_matrix)\n",
    "    \n",
    "    print(\"\\nClassification Report:\")\n",
    "    print(classification_report(y_test, y_pred))\n"
   ]
  },
  {
   "cell_type": "code",
   "execution_count": null,
   "metadata": {},
   "outputs": [
    {
     "name": "stdout",
     "output_type": "stream",
     "text": [
      "Accuracy: 0.78\n",
      "Precision: 0.77\n",
      "Recall: 0.78\n",
      "F1 Score: 0.77\n",
      "\n",
      "Confusion Matrix:\n",
      "[[750  90]\n",
      " [188 226]]\n",
      "\n",
      "Classification Report:\n",
      "              precision    recall  f1-score   support\n",
      "\n",
      "       False       0.80      0.89      0.84       840\n",
      "        True       0.72      0.55      0.62       414\n",
      "\n",
      "    accuracy                           0.78      1254\n",
      "   macro avg       0.76      0.72      0.73      1254\n",
      "weighted avg       0.77      0.78      0.77      1254\n",
      "\n"
     ]
    }
   ],
   "source": [
    "file_path = \"../dataset abalone/abalone.data\"\n",
    "column_names = [\"Sex\", \"Length\", \"Diameter\", \"Height\", \"Whole weight\",\n",
    "                \"Shucked weight\", \"Viscera weight\", \"Shell weight\", \"Rings\"]\n",
    "target_column = \"Rings\"\n",
    "one_hot_columns = [\"Sex\"]\n",
    "threshold = 10\n",
    "\n",
    "train_svm_model(file_path, column_names, target_column, one_hot_columns, threshold)"
   ]
  },
  {
   "cell_type": "code",
   "execution_count": 4,
   "metadata": {},
   "outputs": [
    {
     "name": "stdout",
     "output_type": "stream",
     "text": [
      "Accuracy: 0.89\n",
      "Precision: 0.81\n",
      "Recall: 0.89\n",
      "F1 Score: 0.85\n",
      "\n",
      "Confusion Matrix:\n",
      "[[ 0 11  7]\n",
      " [ 0 80  0]\n",
      " [ 0  2 88]]\n",
      "\n",
      "Classification Report:\n",
      "              precision    recall  f1-score   support\n",
      "\n",
      "           B       0.00      0.00      0.00        18\n",
      "           L       0.86      1.00      0.92        80\n",
      "           R       0.93      0.98      0.95        90\n",
      "\n",
      "    accuracy                           0.89       188\n",
      "   macro avg       0.60      0.66      0.63       188\n",
      "weighted avg       0.81      0.89      0.85       188\n",
      "\n"
     ]
    },
    {
     "name": "stderr",
     "output_type": "stream",
     "text": [
      "c:\\Users\\klown\\AppData\\Local\\Programs\\Python\\Python312\\Lib\\site-packages\\sklearn\\metrics\\_classification.py:1531: UndefinedMetricWarning: Precision is ill-defined and being set to 0.0 in labels with no predicted samples. Use `zero_division` parameter to control this behavior.\n",
      "  _warn_prf(average, modifier, f\"{metric.capitalize()} is\", len(result))\n",
      "c:\\Users\\klown\\AppData\\Local\\Programs\\Python\\Python312\\Lib\\site-packages\\sklearn\\metrics\\_classification.py:1531: UndefinedMetricWarning: Precision is ill-defined and being set to 0.0 in labels with no predicted samples. Use `zero_division` parameter to control this behavior.\n",
      "  _warn_prf(average, modifier, f\"{metric.capitalize()} is\", len(result))\n",
      "c:\\Users\\klown\\AppData\\Local\\Programs\\Python\\Python312\\Lib\\site-packages\\sklearn\\metrics\\_classification.py:1531: UndefinedMetricWarning: Precision is ill-defined and being set to 0.0 in labels with no predicted samples. Use `zero_division` parameter to control this behavior.\n",
      "  _warn_prf(average, modifier, f\"{metric.capitalize()} is\", len(result))\n",
      "c:\\Users\\klown\\AppData\\Local\\Programs\\Python\\Python312\\Lib\\site-packages\\sklearn\\metrics\\_classification.py:1531: UndefinedMetricWarning: Precision is ill-defined and being set to 0.0 in labels with no predicted samples. Use `zero_division` parameter to control this behavior.\n",
      "  _warn_prf(average, modifier, f\"{metric.capitalize()} is\", len(result))\n"
     ]
    }
   ],
   "source": [
    "file_path = \"../dataset balance+scale/balance-scale.data\"\n",
    "column_names = [\"Class\", \"Left-Weight\", \"Left-Distance\", \"Right-Weight\", \"Right-Distance\"]\n",
    "target_column = \"Class\"\n",
    "one_hot_columns = None\n",
    "threshold = None\n",
    "\n",
    "train_svm_model(file_path, column_names, target_column, one_hot_columns, threshold)"
   ]
  },
  {
   "cell_type": "code",
   "execution_count": 6,
   "metadata": {},
   "outputs": [
    {
     "name": "stdout",
     "output_type": "stream",
     "text": [
      "Accuracy: 0.72\n",
      "Precision: 0.72\n",
      "Recall: 0.72\n",
      "F1 Score: 0.66\n",
      "\n",
      "Confusion Matrix:\n",
      "[[57  2]\n",
      " [22  5]]\n",
      "\n",
      "Classification Report:\n",
      "                      precision    recall  f1-score   support\n",
      "\n",
      "no-recurrence-events       0.72      0.97      0.83        59\n",
      "   recurrence-events       0.71      0.19      0.29        27\n",
      "\n",
      "            accuracy                           0.72        86\n",
      "           macro avg       0.72      0.58      0.56        86\n",
      "        weighted avg       0.72      0.72      0.66        86\n",
      "\n"
     ]
    }
   ],
   "source": [
    "file_path = \"../dataset breast+cancer/breast-cancer.data\"\n",
    "column_names = [\n",
    "    \"Class\", \"Age\", \"Menopause\", \"Tumor-Size\", \"Inv-Nodes\", \"Node-Caps\",\n",
    "    \"Deg-Malig\", \"Breast\", \"Breast-Quad\", \"Irradiat\"\n",
    "]\n",
    "target_column = \"Class\"\n",
    "one_hot_columns=[\"Age\", \"Menopause\", \"Tumor-Size\", \"Inv-Nodes\", \"Node-Caps\", \"Breast\", \"Breast-Quad\", \"Irradiat\"]\n",
    "threshold = None\n",
    "\n",
    "train_svm_model(file_path, column_names, target_column, one_hot_columns, threshold)"
   ]
  },
  {
   "cell_type": "code",
   "execution_count": 7,
   "metadata": {},
   "outputs": [
    {
     "name": "stdout",
     "output_type": "stream",
     "text": [
      "Accuracy: 1.00\n",
      "Precision: 1.00\n",
      "Recall: 1.00\n",
      "F1 Score: 1.00\n",
      "\n",
      "Confusion Matrix:\n",
      "[[19  0  0]\n",
      " [ 0 13  0]\n",
      " [ 0  0 13]]\n",
      "\n",
      "Classification Report:\n",
      "                 precision    recall  f1-score   support\n",
      "\n",
      "    Iris-setosa       1.00      1.00      1.00        19\n",
      "Iris-versicolor       1.00      1.00      1.00        13\n",
      " Iris-virginica       1.00      1.00      1.00        13\n",
      "\n",
      "       accuracy                           1.00        45\n",
      "      macro avg       1.00      1.00      1.00        45\n",
      "   weighted avg       1.00      1.00      1.00        45\n",
      "\n"
     ]
    }
   ],
   "source": [
    "file_path = \"../dataset iris/iris.data\"\n",
    "column_names = [\"SepalLength\", \"SepalWidth\", \"PetalLength\", \"PetalWidth\", \"Class\"]\n",
    "target_column = \"Class\"\n",
    "one_hot_columns = None\n",
    "threshold = None\n",
    "\n",
    "train_svm_model(file_path, column_names, target_column, one_hot_columns, threshold)"
   ]
  },
  {
   "cell_type": "code",
   "execution_count": 8,
   "metadata": {},
   "outputs": [
    {
     "name": "stdout",
     "output_type": "stream",
     "text": [
      "Accuracy: 0.76\n",
      "Precision: 0.75\n",
      "Recall: 0.76\n",
      "F1 Score: 0.72\n",
      "\n",
      "Confusion Matrix:\n",
      "[[19  0  0]\n",
      " [ 0 19  2]\n",
      " [ 0 11  3]]\n",
      "\n",
      "Classification Report:\n",
      "              precision    recall  f1-score   support\n",
      "\n",
      "           1       1.00      1.00      1.00        19\n",
      "           2       0.63      0.90      0.75        21\n",
      "           3       0.60      0.21      0.32        14\n",
      "\n",
      "    accuracy                           0.76        54\n",
      "   macro avg       0.74      0.71      0.69        54\n",
      "weighted avg       0.75      0.76      0.72        54\n",
      "\n"
     ]
    }
   ],
   "source": [
    "file_path = \"../dataset wine/wine.data\"\n",
    "column_names = [\n",
    "    \"Class\", \"Alcohol\", \"MalicAcid\", \"Ash\", \"AlcalinityOfAsh\", \"Magnesium\",\n",
    "    \"TotalPhenols\", \"Flavanoids\", \"NonflavanoidPhenols\", \"Proanthocyanins\",\n",
    "    \"ColorIntensity\", \"Hue\", \"OD280_OD315\", \"Proline\"\n",
    "]\n",
    "target_column = \"Class\"\n",
    "one_hot_columns=None\n",
    "threshold=None\n",
    "\n",
    "train_svm_model(file_path, column_names, target_column, one_hot_columns, threshold)"
   ]
  }
 ],
 "metadata": {
  "kernelspec": {
   "display_name": "Python 3",
   "language": "python",
   "name": "python3"
  },
  "language_info": {
   "codemirror_mode": {
    "name": "ipython",
    "version": 3
   },
   "file_extension": ".py",
   "mimetype": "text/x-python",
   "name": "python",
   "nbconvert_exporter": "python",
   "pygments_lexer": "ipython3",
   "version": "3.12.3"
  }
 },
 "nbformat": 4,
 "nbformat_minor": 2
}
